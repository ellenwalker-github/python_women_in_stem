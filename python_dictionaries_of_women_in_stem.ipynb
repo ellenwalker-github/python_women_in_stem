{
 "cells": [
  {
   "cell_type": "markdown",
   "metadata": {},
   "source": [
    "# Below, you'll find some Python dictionaries of famous women in science, technology, engineering and mathematics. \n",
    "\n",
    "\n",
    "\n"
   ]
  },
  {
   "cell_type": "markdown",
   "metadata": {},
   "source": [
    "### Learning objectives\n",
    "1. Learners become familiar with the concept of a Python dictionary and how it can be used to organize and retrieve information. \n",
    "2. Learners can name at least three famous women in STEM and one role that the woman had.\n",
    "\n",
    "\n",
    "### Questions that can be covered:\n",
    "- What is programming?\n",
    "- What is Python?\n",
    "- What is a dictionary?\n",
    "- What is a key?\n",
    "- What is a value?\n",
    "- Why is it written like this with funny characters and not just text? what's that called?\n",
    "- How do I make a dictionary myself or with a classmate? What is some information I want to organize?\n",
    "- What does 'STEM' stand for?\n",
    "- Who are some famous women in STEM?\n",
    "- What jobs do or did they have?\n",
    "- How can I learn more about Python? codeweek.eu -> Resources\n",
    "- How can I learn more about women in STEM? -> Go to your library and ask around in your community.\n"
   ]
  },
  {
   "cell_type": "markdown",
   "metadata": {},
   "source": [
    "First, let's load some scientists "
   ]
  },
  {
   "cell_type": "code",
   "execution_count": null,
   "metadata": {},
   "outputs": [],
   "source": [
    "ada_lovelace_dict = {\"first name\":\"Ada\", \"second name\":\"Lovelace\", \"role\":\"mathematician\", \"second role\":\"writer\", \"date of birth\":\"December 10, 1815\", \"date of death\":\"November 27, 1852\", \"famous for\":\"first computer programmer\", \"web link\":\"https://en.wikipedia.org/wiki/Ada_Lovelace\"\n",
    "}\n",
    "frances_arnold_dict = {\"first name\":\"Frances\", \"second name\":\"Arnold\", \"role\":\"chemical engineer\", \"date of birth\":\"still living\", \"date of death\":None, \"famous for\":\"pioneering the use of directed evolution to engineer enzymes and was awarded the Nobel Prize in Chemistry in 2018\", \"web link\":\"https://en.wikipedia.org/wiki/Frances_Arnold\"}\n",
    "elizabeth_blackwell_dict = {\"first name\":\"Elizabeth\", \"second name\":\"Blackwell\", \"role\":\"doctor\", \"date of birth\":\"February 3, 1821\", \"date of death\":\"May 31, 1910\", \"famous for\":\"first woman to receive a medical degree in the United States\", \"web link\":\"https://en.wikipedia.org/wiki/Elizabeth_Blackwell\"\n",
    "}\n",
    "helen_sawyer_hogg_dict = {\"first name\": \"Helen\", \"second name\": \"Sawyer\", \"third name\":\"Hogg\", \"role\": \"astronomer\", \"date of birth\": \"1 August 1905\", \"date of death\": \"28 January 1993\", \"famous for\": \"pioneering research into globular clusters and variable stars, and was the first female president of several astronomical organizations\", \"web link\": \"https://en.wikipedia.org/wiki/Helen_Sawyer_Hogg\"}"
   ]
  },
  {
   "cell_type": "markdown",
   "metadata": {},
   "source": [
    "## Exercise 1: \n",
    "Print some of the dictionaries using the print() command. For example, ``print(ada_lovelace_dict)`` or just type in the name of the dictionary and then run it."
   ]
  },
  {
   "cell_type": "code",
   "execution_count": null,
   "metadata": {},
   "outputs": [],
   "source": []
  },
  {
   "cell_type": "markdown",
   "metadata": {},
   "source": [
    "## Exercise 2:\n",
    "Find out the value of a key in one of the dictionaries. For example, ``ada_lovelace_dict[\"second name\"]`` Practice getting the values of a bunch of different keys."
   ]
  },
  {
   "cell_type": "code",
   "execution_count": null,
   "metadata": {},
   "outputs": [],
   "source": []
  },
  {
   "cell_type": "markdown",
   "metadata": {},
   "source": [
    "## Exercise 3:\n",
    "Pick one of the women in STEM. Get a list of the keys in her dictionary. For example, ``ada_lovelace_dict.keys()``. Try a couple of other women's names. How many names do they have? what are some of the different jobs they have or have had?"
   ]
  },
  {
   "cell_type": "code",
   "execution_count": null,
   "metadata": {},
   "outputs": [],
   "source": []
  },
  {
   "cell_type": "markdown",
   "metadata": {},
   "source": [
    "## Exercise 4: \n",
    "What are the women in this dictionary famous for? Find out by pulling up the values associated to the key, \"famous for\". For example, ``ada_lovelace_dict[\"famous for\"]``"
   ]
  },
  {
   "cell_type": "code",
   "execution_count": null,
   "metadata": {},
   "outputs": [],
   "source": []
  },
  {
   "cell_type": "markdown",
   "metadata": {},
   "source": [
    "Now let's load a few more scientists"
   ]
  },
  {
   "cell_type": "code",
   "execution_count": null,
   "metadata": {},
   "outputs": [],
   "source": [
    "hypatia_dict = {\"first name\":\"Hypatia\", \"second name\":None, \"role\":\"astronomer\", \"second role\": \"mathematician\", \"third role\": \"philosopher\", \"date of birth\":\"c. 350-370\", \"date of death\":\"415\", \"famous for\":\"philosophy and astronomy teacher and first female mathematician whose life is reasonably well recorded\", \"web link\":\"https://en.wikipedia.org/wiki/Hypatia\"}\n",
    "ada_yonath_dict = {\"first name\":\"Ada\", \"second name\":\"Yonath\", \"role\":\"crystallographer\", \"date of birth\":\"still living\", \"date of death\":None, \"famous for\":\"her groundbreaking work on the structure of the ribosome and won a Nobel Prize in chemistry in 2009\", \"web link\":\"https://en.wikipedia.org/wiki/Ada_Yonath\"}\n",
    "maria_sibylla_merian_dict = {\"first name\":\"Maria\", \"second name\":\"Sibylla\", \"third name\": \"Merian\", \"role\":\"scientific illustrator\", \"second role\": \"entymologist\", \"date of birth\":\"April 2, 1647\", \"date of death\":\"January 13, 1717\", \"famous for\":\"naturalist and scientific illustrator\", \"web link\":\"https://en.wikipedia.org/wiki/Maria_Sibylla_Merian\"}\n",
    "dorothy_mary_crowfoot_hodgkin_dict = {\"first name\": \"Dorothy\", \"second name\": \"Mary\", \"third name\": \"Crowfoot\", \"fourth name\": \"Hodgkin\", \"role\": \"chemist\", \"date of birth\": \"12 May 1910\", \"date of death\": \"29 July 1994\", \"famous for\": \"advanced the technique of X-ray crystallography to determine the structure of biomolecules and won the 1964 Nobel Prize in chemistry\", \"web link\": \"https://en.wikipedia.org/wiki/Dorothy_Hodgkin\"}\n",
    "wang_zhenyi_dict = {\"first name\":\"Wang\", \"second name\":\"Zhenyi\", \"role\":\"astronomer\", \"second role\": \"poet\", \"third role\": \"mathematician\", \"date of birth\":\"1768\", \"date of death\":\"1797\", \"famous for\":\"scientist, and acclaimed scholar in astronomy, mathematics, and poetry\", \"web link\":\"https://en.wikipedia.org/wiki/Wang_Zhenyi_(astronomer)\"}\n",
    "irene_joliot_curie_dict = {\"first name\": \"Irene\", \"second name\": \"Joliot\", \"third name\": \"Curie\", \"role\": \"chemist\", \"second role\": \"physicist\", \"third role\": \"politician\", \"date of birth\": \"12 September 1897\", \"date of death\": \"17 March 1956\", \"famous for\": \"discovery of artificial radioactivity\", \"web link\": \"https://en.wikipedia.org/wiki/Ir%C3%A8ne_Joliot-Curie\"}\n",
    "maryam_mirzakhani_dict = {\"first name\":\"Maryam\", \"second name\":\"Mirzakhani\", \"role\":\"mathematician\", \"date of birth\":\"12 May 1977\", \"date of death\":\"14 July 2017\", \"famous for\":\"mathematician, winner of the Fields medal, and professor of mathematics at Stanford University\", \"web link\":\"https://en.wikipedia.org/wiki/Maryam_Mirzakhani\"}\n",
    "elizabeth_blackburn_dict = {\"first name\":\"Elizabeth\", \"second name\":\"Blackburn\", \"role\":\"molecular biologist\", \"date of birth\":\"26 November 1948\", \"date of death\":None, \"famous for\":\"co-discovering the telomere structure on chromosomes as well as the telomerase enzyme, and is a Nobel laureate\", \"web link\":\"https://en.wikipedia.org/wiki/Elizabeth_Blackburn\"}\n",
    "mae_jemison_dict = {\"first name\":\"Mae\", \"second name\":\"Jemison\", \"role\":\"engineer\", \"second role\":\"physician\", \"third role\":\"astronaut\", \"date of birth\":\"still living\", \"date of death\":None, \"famous for\":\"first woman of color to travel into space\", \"web link\":\"https://en.wikipedia.org/wiki/Mae_Jemison\", \"Twitter\":\"@maejemison\", \"quote\": \"Don't doubt, dare!\"}\n",
    "hertha_ayrton_dict = {\"first name\":\"Hertha\", \"second name\":\"Ayrton\", \"role\":\"engineer\", \"second role\": \"mathematician\", \"third role\": \"inventor\", \"fourth role\":\"suffragette\", \"date of birth\":\"28 April 1854\", \"date of death\":\"26 August 1923\", \"famous for\":\"her work on electric arcs and ripples in sand and water, was awarded the Hughes Medal by the British Royal Society\", \"web link\":\"https://en.wikipedia.org/wiki/Hertha_Ayrton\"}\n",
    "sau_lan_wu_dict = {\"first name\":\"Sau\", \"second name\":\"Lan\", \"third name\": \"Wu\", \"role\":\"particle physicist\", \"second role\": \"a group leader working on CERN's ATLAS experiment\", \"date of birth\":\"still living\", \"date of death\":None, \"famous for\":\"made important contributions towards the discovery of the J/psi particle, which provided experimental evidence for the existence of the charm quark, and the gluon, the vector boson of the strong force in the Standard Model of physics, and is among those who significantly contributed to the discovery of a boson consistent with the predicted characters of Higgs boson\", \"web link\":\"https://en.wikipedia.org/wiki/Sau_Lan_Wu\"}\n",
    "marie_sklowdowska_curie_dict = {\"first name\":\"Marie\", \"second name\":\"Sklowdowska\", \"third name\": \"Curie\", \"role\":\"physicist\", \"second role\": \"chemist\", \"date of birth\":\"7 November 1867\", \"date of death\": \"4 July 1934\", \"famous for\":\"groundbreaking research on radioactivity, discovery of polonium and radium, the first woman to win a Nobel Prize, the first person and the only woman to win the Nobel Prize twice, the only person to win the Nobel Prize in two scientific fields, and the first woman to become a professor at the University of Paris\", \"web link\":\"https://en.wikipedia.org/wiki/Marie_Curie\"}\n",
    "jocelyn_bell_burnell_dict = {\"first name\":\"Jocelyn\", \"second name\":\"Bell\", \"third name\":\"Burnell\", \"role\":\"astrophysicist\", \"date of birth\":\"still living\", \"date of death\":None, \"famous for\":\"first person to observe pulsars and also donated £2.3 million of prize money to establish the Bell Burnell Graduate Scholarship Fund for female, minority or refugee students seeking to become physics researchers\", \"web link\":\"https://en.wikipedia.org/wiki/Jocelyn_Bell_Burnell\"}\n",
    "donna_strickland_dict = {\"first name\": \"Donna\", \"second name\": \"Theo\", \"third name\": \"Strickland\", \"role\": \"optical physicist\", \"date of birth\": \"still living\", \"date of death\": None, \"famous for\": \"a pioneer in the field of pulsed lasers, she was awarded a Nobel Prize in physics in 2018 for the practical implementation of chirped pulse amplification, such as for human vision\", \"web link\": \"https://en.wikipedia.org/wiki/Donna_Strickland\"}\n",
    "valentina_tereshkova_dict = {\"first name\":\"Valentina\", \"second name\":\"Vladimirovna\", \"third name\":\"Tereshkova\", \"role\":\"engineer\", \"second role\": \"astronaut\", \"date of birth\":\"still living\", \"date of death\":None, \"famous for\":\"first and youngest woman to have flow in space with a solo mission on the Vostok 6 on 16 June 1963\", \"web link\":\"https://en.wikipedia.org/wiki/Valentina_Tereshkova\"}\n",
    "maria_goeppert_mayer_dict = {\"first name\": \"maria\", \"second name\": \"Goeppert\", \"third name\": \"Mayer\", \"role\": \"theoretical physicist\", \"date of birth\": \"28 June 1906\", \"date of death\":\"20 February 1972\", \"famous for\": \"proposing the nuclear shell model of the atomic nucleus, for which she was awarded a Nobel Prize in physics\", \"web link\": \"https://en.wikipedia.org/wiki/Maria_Goeppert_Mayer\"}\n",
    "rachel_carson_dict = {\"first name\":\"Rachel\", \"second name\":\"Carson\", \"role\":\"marine biologist\", \"second role\": \"author\", \"third role\":\"conservationist\", \"date of birth\":\"27 May 1907\", \"date of death\":\"14 April 1964\", \"famous for\":\"significantly advanced the global environmenal movement, drew attention to dangerous pesticides, authored the famous books, The Sea Around Us, and Silent Spring, and was awarded a (U.S.) Presidential Medal of Freedom\", \"web link\":\"https://en.wikipedia.org/wiki/Rachel_Carson\", \"quote\":\"The human race is challenged more than ever before to demonstrate our mastery, not over nature but of ourselves.\"}\n",
    "tu_youyou_dict = {\"first name\": \"Tu\", \"second name\": \"Youyou\", \"role\": \"pharmaceutical chemist\", \"second role\": \"malariologist\", \"date of birth\": \"still living\", \"date of death\": None, \"famous for\": \"discovered artemisinin and dihydroartemisinin, used to treat malaria, a breakthrough in twentieth-century tropical medicine, saving millions of lives in South China, Southeast Asia, Africa, and South America, for which she received the 2011 Lasker Award in clinical medicine and a 2015 Nobel Prize in Physiology or Medicine\", \"web link\": \"https://en.wikipedia.org/wiki/Tu_Youyou\"}\n",
    "grace_hopper_dict = {\"first name\":\"Grace\", \"second name\":\"Brewster\", \"third name\": \"Murray\", \"fourth name\": \"Hopper\", \"role\":\"computer scientist\", \"second role\": \"United States Navy rear admiral\", \"date of birth\":\"9 December 1906\", \"date of death\":\"1 January 1992\", \"famous for\":\"a pioneer of computer programming who programmed one of the first-ever electronic computers, invented a one of the first linkers (originally called a compiler), and popularized the idea of machine-independent programming languages, which led to the development of the COBOL programming language\", \"web link\":\"https://en.wikipedia.org/wiki/Grace_Hopper\"}\n",
    "mary_somerville_dict = {\"first name\": \"Mary\", \"second name\": \"Somerville\", \"role\": \"science writer\", \"second role\":\"mathematician\", \"date of birth\": \"26 December 1780\", \"date of death\": \"29 September 1872\", \"famous for\": \"promoting the use of and translating works on differential calculus and popularising science, mathematics and astronomy\", \"web link\": \"https://en.wikipedia.org/wiki/Mary_Somerville\"}\n",
    "may_britt_moser_dict = {\"first name\": \"Britt-May\", \"second name\": \"Moser\", \"role\": \"neuroscientist\", \"second role\":\"psychologist\", \"date of birth\": \"still living\", \"date of death\": None, \"famous for\": \"pioneering brain research allowing new knowledge into human neurological conditions and was awarded a Nobel Prize in 2014 in Physiology or Medicine\", \"web link\": \"https://en.wikipedia.org/wiki/May-Britt_Moser\"}\n",
    "carol_greider_dict = {\"first name\": \"Carolyn\", \"second name\": \"Widney\", \"third name\": \"Greider\", \"role\": \"molecular biologist\", \"date of birth\": \"still living\", \"date of death\": None, \"famous for\": \"discovery that telomeres are protected from progressive shortening by the enzyme telomerase and was awarded a Nobel Prize in 2009 for Physiology or Medicine\", \"web link\": \"https://en.wikipedia.org/wiki/Carol_W._Greider\"}\n",
    "francoise_barre_sinoussi_dict = {\"first name\": \"Françoise\", \"second name\": \"Barré-Sinoussi\", \"role\": \"virologist\", \"date of birth\": \"still living\", \"date of death\": None, \"famous for\": \"some of the fundamental work to identify the human immunodeficiency virus (HIV) as the cause of AIDS and in 2008 was awarded a Nobel Prize in Physiology or Medicine\", \"web link\": \"https://en.wikipedia.org/wiki/Fran%C3%A7oise_Barr%C3%A9-Sinoussi\"}\n",
    "linda_buck_dict = {\"first name\": \"Linda\", \"second name\": \"Buck\", \"role\": \"biologist\", \"date of birth\": \"still living\", \"date of death\": None, \"famous for\": \"her work on the olfactory receptors and was awarded the 2004 Nobel Prize in Physiology or Medicine\", \"web link\": \"https://en.wikipedia.org/wiki/Linda_B._Buck\"}\n",
    "christiane_nusslein_volhard_dict = {\"first name\": \"Christiane\", \"second name\": \"Nüsslein\", \"third name\": \"Volhard\", \"role\": \"developmental biologist\", \"date of birth\": \"still living\", \"date of death\": None, \"famous for\": \"research on the genetic control of embryonic development and was awarded a Nobel Prize in Physiology or Medicine in 1995\", \"web link\": \"https://en.wikipedia.org/wiki/Christiane_N%C3%BCsslein-Volhard\"}\n",
    "gertrude_elion_dict = {\"first name\": \"Gertrude\", \"second name\": \"Elion\", \"role\": \"biochemist\", \"second role\": \"pharmacologist\", \"date of birth\": \"23 January 1918\", \"date of death\": \"21 February 1999\", \"famous for\": \"use of innovative methods of rational drug design for the development of new drugs and was awarded a Nobel Prize in Physiology or Medicine in 1988\", \"web link\": \"https://en.wikipedia.org/wiki/Gertrude_B._Elion\"}\n",
    "rita_levi_montalicini_dict = {\"first name\": \"Rita\", \"second name\": \"Levi\", \"third name\": \"Montalchini\", \"role\": \"neurobiologist\", \"date of birth\": \"22 April 1909\", \"date of death\": \"30 December 2012\", \"famous for\": \"the discovery of nerve growth factor, or NGF, and was awarded a 1986 Nobel Prize in Physiology or Medicine\", \"web link\": \"https://en.wikipedia.org/wiki/Rita_Levi-Montalcini\"}\n",
    "barbara_mcclintock_dict = {\"first name\": \"Barbara\", \"second name\": \"McClintock\", \"role\": \"cytogeneticist\", \"date of birth\": \"16 June 1902\", \"date of death\": \"2 September 1992\", \"famous for\": \"major discoveries in genetics such as the discovery of genetic transposition for which she was awarded the 1983 Nobel Prize - unshared- in Physiology or Medicine\", \"web link\": \"https://en.wikipedia.org/wiki/Barbara_McClintock\"}\n",
    "rosalyn_sussman_yalow_dict = {\"first name\": \"Rosalyn\", \"second name\": \"Sussman\", \"third name\": \"Yalow\", \"role\": \"medical physicist\", \"date of birth\": \"19 July 1921\", \"date of death\": \"30 May 2011\", \"famous for\": \"development of the radioimmunoassay technique and was awarded a Nobel Prize in Physiology or Medicine in 1977\", \"web link\": \"https://en.wikipedia.org/wiki/Rosalyn_Sussman_Yalow\"}\n",
    "gerty_cori_dict = {\"first name\": \"Gerty\", \"second name\": \"Cori\", \"role\": \"biochemist\", \"date of birth\": \"15 August 1896\", \"date of death\": \"26 October 1957\", \"famous for\": \"discovery of the course of the catalytic conversion of glycogen and in 1947 was the first woman to be awarded a Nobel Prize in Physiology or Medicine\", \"web link\": \"https://en.wikipedia.org/wiki/Gerty_Cori\"}\n"
   ]
  },
  {
   "cell_type": "markdown",
   "metadata": {},
   "source": [
    "## Exercise 5:\n",
    "Who are three mathematicians from these dictionaries? three physicists? three chemists? For example, ``marie_sklowdowska_curie_dict[\"role\"]``"
   ]
  },
  {
   "cell_type": "code",
   "execution_count": null,
   "metadata": {},
   "outputs": [],
   "source": []
  },
  {
   "cell_type": "markdown",
   "metadata": {},
   "source": [
    "## Exercise 6:\n",
    "Check to see if one of the women was a mathematician by pulling up the role keys. Some women have up to three roles (\"role\", \"second role\", \"third role\")."
   ]
  },
  {
   "cell_type": "code",
   "execution_count": null,
   "metadata": {},
   "outputs": [],
   "source": []
  },
  {
   "cell_type": "markdown",
   "metadata": {},
   "source": [
    "## Exercise 7:\n",
    "What kind of other roles besides STEM roles did some of these women have? Were they active in anything besides science, technology, engineering and mathematics?"
   ]
  },
  {
   "cell_type": "code",
   "execution_count": null,
   "metadata": {},
   "outputs": [],
   "source": []
  },
  {
   "cell_type": "markdown",
   "metadata": {},
   "source": [
    "## Exercise 8:\n",
    "Add more women to your dictionary. For example, you can add the women who won Nobel Prizes in 2020: Andrea Mila Ghez (https://en.wikipedia.org/wiki/Andrea_M._Ghez), Emmanuelle Charpentier (https://en.wikipedia.org/wiki/Emmanuelle_Charpentier) and Jennifer Doudna (https://en.wikipedia.org/wiki/Jennifer_Doudna) They are still living so for their date of birth just put, \"still living\" as the value. You can also pick someone from this timeline of women in science: https://en.wikipedia.org/wiki/Timeline_of_women_in_science."
   ]
  },
  {
   "cell_type": "code",
   "execution_count": null,
   "metadata": {},
   "outputs": [],
   "source": []
  },
  {
   "cell_type": "markdown",
   "metadata": {},
   "source": [
    "## Exercise 9:\n",
    "Interview someone in your class and make a dictionary with their name, favorite color, favorite subject, and the name of a book that they recommend reading."
   ]
  },
  {
   "cell_type": "code",
   "execution_count": null,
   "metadata": {},
   "outputs": [],
   "source": []
  },
  {
   "cell_type": "markdown",
   "metadata": {},
   "source": [
    "Now we will group some of our dictionaries together to make it easier to perform actions on multiple dictionaries at once"
   ]
  },
  {
   "cell_type": "code",
   "execution_count": null,
   "metadata": {},
   "outputs": [],
   "source": [
    "my_scientists = [\n",
    "    ada_lovelace_dict,\n",
    "    gerty_cori_dict,\n",
    "    rosalyn_sussman_yalow_dict,\n",
    "    hypatia_dict\n",
    "]"
   ]
  },
  {
   "cell_type": "markdown",
   "metadata": {},
   "source": [
    "We can run actions on each member of our list"
   ]
  },
  {
   "cell_type": "code",
   "execution_count": null,
   "metadata": {},
   "outputs": [],
   "source": [
    "for scientist in my_scientists:\n",
    "    print(scientist[\"role\"])"
   ]
  },
  {
   "cell_type": "markdown",
   "metadata": {},
   "source": [
    "## Exercise 10:\n",
    "Print the date of birth of each scientist in our list"
   ]
  },
  {
   "cell_type": "code",
   "execution_count": null,
   "metadata": {},
   "outputs": [],
   "source": []
  },
  {
   "cell_type": "markdown",
   "metadata": {},
   "source": [
    "## Follow-Up Activities\n",
    "1. Go to your local library and see if they have books on women in STEM (science, technology, engineering and mathematics). Look for a nonfiction book, a biography. What did she study in school? Write a short report on the book and share it with your science, programming, math or language class. Draw a picture of her to go with your report. \n",
    "2. Add quotes by the women to these Python dictionaries, at the end of their dictionary. You have an example in some of the dictionaries, but not all. See if you can find quotes online or at your library.\n",
    "3. What is one of the roles that sounded interesting to you? Was there a role you had not heard of before? Was there a word that you had never heard before that sounded interesting? Go the library and find out more about one of the careers or subjects that sparks your curiosity. Write about it and share it with one of your classes at school.\n",
    "4. Who are some women in STEM in your town? Ask your local librarian. Find some women working as teachers, in medicine, in technology, or working in mathematics. Maybe they are working in finance or accounting. Do you know any? Ask them some questions, like what they like about their jobs or how they got started in their field.\n",
    "5. Use the Women in STEM dictionaries to make a quiz, working in pairs.\n",
    "6. What is one of the professional associations to which a famous woman in STEM belonged or belongs? Look at their Wikipedia pages to find one, and then find out more about it."
   ]
  },
  {
   "cell_type": "code",
   "execution_count": null,
   "metadata": {},
   "outputs": [],
   "source": []
  }
 ],
 "metadata": {
  "kernelspec": {
   "display_name": "Python 3",
   "language": "python",
   "name": "python3"
  },
  "language_info": {
   "codemirror_mode": {
    "name": "ipython",
    "version": 3
   },
   "file_extension": ".py",
   "mimetype": "text/x-python",
   "name": "python",
   "nbconvert_exporter": "python",
   "pygments_lexer": "ipython3",
   "version": "3.7.6"
  }
 },
 "nbformat": 4,
 "nbformat_minor": 4
}
